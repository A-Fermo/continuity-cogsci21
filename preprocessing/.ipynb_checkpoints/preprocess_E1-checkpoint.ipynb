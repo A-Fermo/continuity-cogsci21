{
 "cells": [
  {
   "cell_type": "code",
   "execution_count": 2,
   "metadata": {},
   "outputs": [],
   "source": [
    "import os\n",
    "import pandas as pd\n",
    "import numpy as np\n",
    "import json\n",
    "from io import StringIO"
   ]
  },
  {
   "cell_type": "code",
   "execution_count": 3,
   "metadata": {},
   "outputs": [],
   "source": [
    "root_dir = os.path.dirname(os.getcwd())\n",
    "df = pd.read_json(\"{}/experiments/E1/data/data_E1_raw.json\".format(root_dir))\n",
    "\n",
    "data = pd.DataFrame()\n",
    "for idx,row in enumerate(df.iterrows()):\n",
    "    row_data = StringIO(row[1].content)\n",
    "    dataframe = pd.read_csv(row_data, sep=',')\n",
    "    dataframe.insert(0,\"subject_id\",np.repeat(idx+1,dataframe.shape[0]))\n",
    "    data = pd.concat([data,dataframe],ignore_index=True)\n",
    "\n",
    "#data = data[[\"subject_id\",\"rt\",\"stimulus\",\"trial_type\",\"sampling\",\"status\",\"nb_of_run\",\"stim_type\",\"length\",\"state_OR_event\",\n",
    "                   #\"branch_first\",\"time_interval\",\"node_selected\"]]\n",
    "data = data.drop(['button_pressed','trial_index', 'internal_node_id','question_order'],axis=1)\n",
    "#data = data[(data[\"trial_type\"]==\"causal-graph1\") & (data[\"status\"]==\"active\")].drop([\"trial_type\",\"status\"],axis=1)\n",
    "data.loc[data['status']!='active','stimulus'] = 'instruction'\n",
    "data.loc[data['trial_type']=='survey-text','stimulus'] = 'comment'\n",
    "def clean_rt(stim, rt):\n",
    "    if \"instruction\" in stim:\n",
    "        return np.nan\n",
    "    else:\n",
    "        return rt\n",
    "    \n",
    "data['rt'] = data.apply(lambda x: clean_rt(x['stimulus'],x['rt']),axis=1)\n",
    "#data.loc[(data['stimulus']=='instruction') | (data['stimulus']=='comment'),'rt'] = np.nan\n",
    "#data['rt'] = np.where((data['stimulus']=='instruction') | (data['stimulus']=='comment'),np.nan,data['rt'])\n",
    "\n",
    "stimulus = []\n",
    "for items in data.stimulus.array:\n",
    "    stim = items.split(',')\n",
    "    if len(stim) == 1:\n",
    "        stim = stim[0]\n",
    "    else:\n",
    "        stim = stim[1].split('/')[1].split('.')[0]\n",
    "    stimulus.append(stim)\n",
    "    \n",
    "stimulus = pd.Series(stimulus)\n",
    "data.stimulus = stimulus\n",
    "data = data.drop(['status'],axis=1)\n",
    "data.to_csv(r\"{}/data/data_E1.csv\".format(root_dir),index=False)"
   ]
  },
  {
   "cell_type": "code",
   "execution_count": null,
   "metadata": {},
   "outputs": [],
   "source": []
  }
 ],
 "metadata": {
  "kernelspec": {
   "display_name": "Python 3",
   "language": "python",
   "name": "python3"
  },
  "language_info": {
   "codemirror_mode": {
    "name": "ipython",
    "version": 3
   },
   "file_extension": ".py",
   "mimetype": "text/x-python",
   "name": "python",
   "nbconvert_exporter": "python",
   "pygments_lexer": "ipython3",
   "version": "3.7.7"
  }
 },
 "nbformat": 4,
 "nbformat_minor": 4
}
