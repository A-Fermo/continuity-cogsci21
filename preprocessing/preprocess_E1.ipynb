{
 "cells": [
  {
   "cell_type": "code",
   "execution_count": 2,
   "metadata": {},
   "outputs": [],
   "source": [
    "import os\n",
    "import pandas as pd\n",
    "import numpy as np\n",
    "import json\n",
    "from io import StringIO"
   ]
  },
  {
   "cell_type": "code",
   "execution_count": 3,
   "metadata": {},
   "outputs": [],
   "source": [
    "root_dir = os.path.dirname(os.getcwd())\n",
    "df = pd.read_json(\"{}/experiments/E1/data/data_E1_raw.json\".format(root_dir))\n",
    "\n",
    "data = pd.DataFrame()\n",
    "for idx,row in enumerate(df.iterrows()):\n",
    "    row_data = StringIO(row[1].content)\n",
    "    dataframe = pd.read_csv(row_data, sep=',')\n",
    "    dataframe.insert(0,\"subject_id\",np.repeat(idx+1,dataframe.shape[0]))\n",
    "    data = pd.concat([data,dataframe],ignore_index=True)\n",
    "    \n",
    "data.to_csv(r\"{}/data/data_E1.csv\".format(root_dir),index=False)"
   ]
  },
  {
   "cell_type": "code",
   "execution_count": null,
   "metadata": {},
   "outputs": [],
   "source": []
  }
 ],
 "metadata": {
  "kernelspec": {
   "display_name": "Python 3",
   "language": "python",
   "name": "python3"
  },
  "language_info": {
   "codemirror_mode": {
    "name": "ipython",
    "version": 3
   },
   "file_extension": ".py",
   "mimetype": "text/x-python",
   "name": "python",
   "nbconvert_exporter": "python",
   "pygments_lexer": "ipython3",
   "version": "3.7.7"
  }
 },
 "nbformat": 4,
 "nbformat_minor": 4
}
