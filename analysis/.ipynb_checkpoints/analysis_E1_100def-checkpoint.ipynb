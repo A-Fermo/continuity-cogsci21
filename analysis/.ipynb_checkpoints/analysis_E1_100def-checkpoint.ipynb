{
 "cells": [
  {
   "cell_type": "code",
   "execution_count": 1,
   "metadata": {},
   "outputs": [],
   "source": [
    "import os\n",
    "import pandas as pd\n",
    "import numpy as np\n",
    "import matplotlib.pyplot as plt"
   ]
  },
  {
   "cell_type": "markdown",
   "metadata": {},
   "source": [
    "## Functions"
   ]
  },
  {
   "cell_type": "code",
   "execution_count": 4,
   "metadata": {},
   "outputs": [],
   "source": [
    "def bootstrap(stim,experience):\n",
    "    df_mean_std = {}\n",
    "    data = stim.response.to_numpy()\n",
    "    stim_type = stim.stimulustype.cat.remove_unused_categories().cat.categories[0]\n",
    "    if experience == 'E1':\n",
    "        length = stim.length.cat.remove_unused_categories().cat.categories[0]\n",
    "        pop_size = 30\n",
    "        if stim_type == 'dualbranch' and length == 'short':\n",
    "            labels = ['otherC','otherD','RC_IC','RD_ID','GCM']\n",
    "        elif stim_type == 'dualbranch' and length != 'short':\n",
    "            labels = ['otherC','otherD','RC','RD','IC','ID','GCM']\n",
    "        elif stim_type == 'chain' and length == 'short':\n",
    "            labels = ['otherC','RC_IC','GCM']\n",
    "        elif stim_type == 'chain' and length != 'short':\n",
    "            labels = ['otherC','RC','IC','GCM']\n",
    "    elif experience == 'E2':\n",
    "        pop_size = 100\n",
    "        if stim_type == 'dualbranch':\n",
    "            labels = ['RC','RD','IC','ID','otherC','otherD','GCM']\n",
    "        elif stim_type == 'chain':\n",
    "            labels = ['RC','IC','otherC','GCM']\n",
    "            \n",
    "    mean_per_cat = []\n",
    "    std_per_cat = []    \n",
    "\n",
    "    sample_mean = {}\n",
    "    for category in labels:\n",
    "            sample_mean[category] = []\n",
    "    for _ in range(100):\n",
    "        sample_n = np.random.choice(data, size=pop_size)\n",
    "        series = pd.Series(sample_n).value_counts(normalize=True)*100\n",
    "        \n",
    "        for category in sample_mean.keys():\n",
    "            if category in series.index:\n",
    "                mean = series[category]\n",
    "                sample_mean[category].append(mean)\n",
    "\n",
    "    for category in sample_mean.keys():\n",
    "        sample_mean[category] = np.array(sample_mean[category])\n",
    "        if len(sample_mean[category]) != 0:\n",
    "            mean = np.mean(sample_mean[category])\n",
    "            std = np.std(sample_mean[category])\n",
    "        else:\n",
    "            mean = 0\n",
    "            std = 0\n",
    "\n",
    "        mean_per_cat.append(mean)\n",
    "        std_per_cat.append(std)\n",
    "\n",
    "    df_mean_std[\"mean\"] = mean_per_cat\n",
    "    df_mean_std[\"std\"] = std_per_cat\n",
    "\n",
    "    df_mean_std = pd.DataFrame(df_mean_std,columns=['mean','std'],index=labels)\n",
    "        \n",
    "    return df_mean_std\n",
    "            \n",
    "def graph_E1(list_of_data,x_axis='node_category'):\n",
    "    fig = plt.figure(figsize=(3.15,1.57))\n",
    "    plt.rcParams['axes.grid'] = False\n",
    "    #fig.suptitle(\"Experiment 1\", fontweight=\"bold\",y=1.05)\n",
    "    a = str(len(list_of_data))\n",
    "    titles = ['Short','Medium','Long']\n",
    "    for i,x in enumerate(list_of_data):\n",
    "        axis = fig.add_subplot(int(\"1\"+a+str(i+1)))\n",
    "        axis.spines[\"top\"].set_visible(False)\n",
    "        axis.spines[\"right\"].set_visible(False)\n",
    "        axis.set_ylim([0,100])\n",
    "        kwargs={'fontsize':7}\n",
    "        axis.set_ylabel(\"Number of responses (%)\",**kwargs)\n",
    "        axis.set_title(titles[i],fontsize=7)\n",
    "        axis.label_outer()\n",
    "        if i == 0:\n",
    "            categories = ['$\\mathregular{R,I_C}$','$\\mathregular{R,I_D}$','other']\n",
    "            \n",
    "            event_mean = [x[0].loc['RC_IC','mean'],x[0].loc['RD_ID','mean'],\n",
    "                     x[0].loc['otherC','mean']+x[0].loc['otherD','mean']+x[0].loc['GCM','mean']]\n",
    "            state_mean = [x[1].loc['RC_IC','mean'],x[1].loc['RD_ID','mean'],\n",
    "                     x[1].loc['otherC','mean']+x[1].loc['otherD','mean']+x[1].loc['GCM','mean']]\n",
    "            \n",
    "            event_std = [x[0].loc['RC_IC','std'],x[0].loc['RD_ID','std'],\n",
    "                     x[0].loc['otherC','std']+x[0].loc['otherD','std']+x[0].loc['GCM','std']]\n",
    "            state_std = [x[1].loc['RC_IC','std'],x[1].loc['RD_ID','std'],\n",
    "                     x[1].loc['otherC','std']+x[1].loc['otherD','std']+x[1].loc['GCM','std']]\n",
    "            \n",
    "        else:\n",
    "            categories = ['$\\mathregular{R_C}$','$\\mathregular{R_D}$','$\\mathregular{I_C}$','$\\mathregular{I_D}$','other']\n",
    "            \n",
    "            event_mean = [x[0].loc['RC','mean'],x[0].loc['RD','mean'],x[0].loc['IC','mean'],\n",
    "                          x[0].loc['ID','mean'],x[0].loc['otherC','mean']+x[0].loc['otherD','mean']+\n",
    "                     x[0].loc['GCM','mean']]\n",
    "            state_mean = [x[1].loc['RC','mean'],x[1].loc['RD','mean'],x[1].loc['IC','mean'],\n",
    "                          x[1].loc['ID','mean'],x[1].loc['otherC','mean']+x[1].loc['otherD','mean']+\n",
    "                     x[1].loc['GCM','mean']]\n",
    "            \n",
    "            event_std = [x[0].loc['RC','std'],x[0].loc['RD','std'],x[0].loc['IC','std'],\n",
    "                          x[0].loc['ID','std'],x[0].loc['otherC','std']+x[0].loc['otherD','std']+\n",
    "                     x[0].loc['GCM','std']]\n",
    "            state_std = [x[1].loc['RC','std'],x[1].loc['RD','std'],x[1].loc['IC','std'],\n",
    "                          x[1].loc['ID','std'],x[1].loc['otherC','std']+x[1].loc['otherD','std']+\n",
    "                     x[1].loc['GCM','std']]\n",
    "            \n",
    "            \n",
    "        df_mean = pd.DataFrame({'event':event_mean,'state':state_mean}, index=categories)\n",
    "        df_std = pd.DataFrame({'event':event_std,'state':state_std}, index=categories)\n",
    "            \n",
    "        #df_mean.plot.bar(ax=axis,yerr=df_std,capsize=3,ecolor='black',rot=0,error_kw={'markeredgewidth':1},legend=legend)\n",
    "        df_mean.plot.bar(ax=axis,yerr=df_std,capsize=1,ecolor='black',rot=90,error_kw={'elinewidth':0.5,'capthick':0.5},fontsize=7)\n",
    "        axis.legend(fontsize=7)\n",
    "        if i != 1:\n",
    "            axis.get_legend().remove()"
   ]
  },
  {
   "cell_type": "code",
   "execution_count": 13,
   "metadata": {},
   "outputs": [],
   "source": [
    "root_dir = os.path.dirname(os.getcwd())\n",
    "data_E1 = pd.read_csv(\"{}/data/responsesOnly_E1_100def.csv\".format(root_dir))\n",
    "for col in data_E1.columns[1:]:\n",
    "    data_E1[col] = data_E1[col].astype('category')\n",
    "\n",
    "ShortState = data_E1[(data_E1['stimulustype']=='dualbranch')&(data_E1['length']=='short')&(data_E1['state_or_event']=='state')]\n",
    "MediumState = data_E1[(data_E1['stimulustype']=='dualbranch')&(data_E1['length']=='medium')&(data_E1['state_or_event']=='state')]\n",
    "LongState = data_E1[(data_E1['stimulustype']=='dualbranch')&(data_E1['length']=='long')&(data_E1['state_or_event']=='state')]\n",
    "ShortEvent = data_E1[(data_E1['stimulustype']=='dualbranch')&(data_E1['length']=='short')&(data_E1['state_or_event']=='event')]\n",
    "MediumEvent = data_E1[(data_E1['stimulustype']=='dualbranch')&(data_E1['length']=='medium')&(data_E1['state_or_event']=='event')]\n",
    "LongEvent = data_E1[(data_E1['stimulustype']=='dualbranch')&(data_E1['length']=='long')&(data_E1['state_or_event']=='event')]\n",
    "\n",
    "SS = bootstrap(ShortState,'E1')\n",
    "MS = bootstrap(MediumState,'E1')\n",
    "LS = bootstrap(LongState,'E1')\n",
    "SE = bootstrap(ShortEvent,'E1')\n",
    "ME = bootstrap(MediumEvent,'E1')\n",
    "LE = bootstrap(LongEvent,'E1')"
   ]
  },
  {
   "cell_type": "code",
   "execution_count": 14,
   "metadata": {},
   "outputs": [
    {
     "data": {
      "image/png": "[encoded data removed]",
      "text/plain": [
       "<Figure size 226.8x113.04 with 3 Axes>"
      ]
     },
     "metadata": {
      "needs_background": "light"
     },
     "output_type": "display_data"
    }
   ],
   "source": [
    "graph_E1([[SE,SS],[ME,MS],[LE,LS]])\n",
    "#plt.savefig('results_E1.eps',format='eps',bbox_inches='tight')"
   ]
  },
  {
   "cell_type": "code",
   "execution_count": null,
   "metadata": {},
   "outputs": [],
   "source": []
  }
 ],
 "metadata": {
  "kernelspec": {
   "display_name": "Python 3",
   "language": "python",
   "name": "python3"
  },
  "language_info": {
   "codemirror_mode": {
    "name": "ipython",
    "version": 3
   },
   "file_extension": ".py",
   "mimetype": "text/x-python",
   "name": "python",
   "nbconvert_exporter": "python",
   "pygments_lexer": "ipython3",
   "version": "3.7.10"
  }
 },
 "nbformat": 4,
 "nbformat_minor": 4
}
